{
  "nbformat": 4,
  "nbformat_minor": 0,
  "metadata": {
    "colab": {
      "provenance": [],
      "authorship_tag": "ABX9TyMFXlNbABdJtY9otIUDs6I/",
      "include_colab_link": true
    },
    "kernelspec": {
      "name": "python3",
      "display_name": "Python 3"
    },
    "language_info": {
      "name": "python"
    }
  },
  "cells": [
    {
      "cell_type": "markdown",
      "metadata": {
        "id": "view-in-github",
        "colab_type": "text"
      },
      "source": [
        "<a href=\"https://colab.research.google.com/github/rupali-01/MINIPROJECTS/blob/main/MATHS.ipynb\" target=\"_parent\"><img src=\"https://colab.research.google.com/assets/colab-badge.svg\" alt=\"Open In Colab\"/></a>"
      ]
    },
    {
      "cell_type": "code",
      "execution_count": 2,
      "metadata": {
        "colab": {
          "base_uri": "https://localhost:8080/"
        },
        "id": "VURZ_AGUan3-",
        "outputId": "005207dd-f53a-426b-9a1b-209fb7daeb9b"
      },
      "outputs": [
        {
          "output_type": "stream",
          "name": "stdout",
          "text": [
            "Press enter to start!\n",
            "----------------------\n",
            "Problem #1: 7 + 9 = 16\n",
            "Problem #2: 12 + 3 = 15\n",
            "Problem #3: 11 * 10 = 110\n",
            "Problem #4: 10 + 8 = 18\n",
            "Problem #5: 7 + 11 = 18\n",
            "Problem #6: 11 * 4 = 44\n",
            "Problem #7: 7 + 7 = 14\n",
            "Problem #8: 11 * 8 = 88\n",
            "Problem #9: 3 * 7 = 21\n",
            "Problem #10: 12 + 6 = 18\n",
            "----------------------\n",
            "Nice work! You finished in 28.65 seconds!\n"
          ]
        }
      ],
      "source": [
        "import random\n",
        "import time\n",
        "\n",
        "OPERATORS = [\"+\", \"-\", \"*\"]\n",
        "MIN_OPERAND = 3\n",
        "MAX_OPERAND = 12\n",
        "TOTAL_PROBLEMS = 10\n",
        "\n",
        "\n",
        "def generate_problem():\n",
        "    left = random.randint(MIN_OPERAND, MAX_OPERAND)\n",
        "    right = random.randint(MIN_OPERAND, MAX_OPERAND)\n",
        "    operator = random.choice(OPERATORS)\n",
        "\n",
        "    expr = str(left) + \" \" + operator + \" \" + str(right)\n",
        "    answer = eval(expr)\n",
        "    return expr, answer\n",
        "\n",
        "\n",
        "wrong = 0\n",
        "input(\"Press enter to start!\")\n",
        "print(\"----------------------\")\n",
        "\n",
        "start_time = time.time()\n",
        "\n",
        "for i in range(TOTAL_PROBLEMS):\n",
        "    expr, answer = generate_problem()\n",
        "    while True:\n",
        "        guess = input(\"Problem #\" + str(i + 1) + \": \" + expr + \" = \")\n",
        "        if guess == str(answer):\n",
        "            break\n",
        "        wrong += 1\n",
        "\n",
        "end_time = time.time()\n",
        "total_time = round(end_time - start_time, 2)\n",
        "\n",
        "print(\"----------------------\")\n",
        "print(\"Nice work! You finished in\", total_time, \"seconds!\")"
      ]
    }
  ]
}